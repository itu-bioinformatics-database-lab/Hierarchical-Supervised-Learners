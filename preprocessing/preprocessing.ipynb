{
 "cells": [
  {
   "cell_type": "code",
   "execution_count": null,
   "metadata": {},
   "outputs": [],
   "source": [
    "import pandas as pd\n",
    "import numpy as np\n",
    "import copy\n",
    "import re\n",
    "from datascience import *\n",
    "%matplotlib inline\n",
    "import matplotlib.pyplot as plots\n",
    "plots.style.use('fivethirtyeight')\n",
    "plots.rcParams[\"patch.force_edgecolor\"] = True"
   ]
  },
  {
   "cell_type": "code",
   "execution_count": null,
   "metadata": {},
   "outputs": [],
   "source": [
    "def parse_bold_data(filename):\n",
    "    df = pd.DataFrame(columns=['nucleotide', 'genus name', 'class name'])\n",
    "    with open(filename) as sequence_file:\n",
    "        lines = sequence_file.readlines()\n",
    "        for idx in range(1, len(lines)):\n",
    "            data = lines[idx].split('\\t')\n",
    "            genus_name = data[19].strip()\n",
    "            nucleotide = data[71].strip()\n",
    "            class_name = data[11].strip()\n",
    "            if genus_name != '':\n",
    "                df.loc[len(df)] = [nucleotide, genus_name, class_name]\n",
    "    df.to_csv(filename.split('.')[0]+'.csv')    "
   ]
  },
  {
   "cell_type": "code",
   "execution_count": null,
   "metadata": {},
   "outputs": [],
   "source": [
    "parse_bold_data('Pucciniomycetes.txt')"
   ]
  },
  {
   "cell_type": "code",
   "execution_count": null,
   "metadata": {},
   "outputs": [],
   "source": [
    "parse_bold_data('Polypodiopsida.txt')"
   ]
  },
  {
   "cell_type": "code",
   "execution_count": null,
   "metadata": {},
   "outputs": [],
   "source": [
    "def printAllKLength(set, k):   \n",
    "    n = len(set)\n",
    "    printAllKLengthRec(set, \"\", n, k)\n",
    "    \n",
    "\n",
    "def printAllKLengthRec(set, prefix, n, k): \n",
    "    if (k == 0) :\n",
    "        res.append(prefix)\n",
    "        return\n",
    "  \n",
    "    for i in range(n):\n",
    "        newPrefix = prefix + set[i]\n",
    "        printAllKLengthRec(set, newPrefix, n, k - 1)\n",
    "\n",
    "combs = []\n",
    "res = []\n",
    "for i in range(7):\n",
    "    printAllKLength(['A', 'C', 'G', 'T'], i+1)\n",
    "    combs.append(res)\n",
    "    res = copy.deepcopy([])"
   ]
  },
  {
   "cell_type": "code",
   "execution_count": null,
   "metadata": {},
   "outputs": [],
   "source": [
    "def kmerize(file, k, is_set, data, filename):\n",
    "    import csv\n",
    "    csv_out = open(filename + '.Cleaned.k' + str(k) + '.csv', 'w', newline='')\n",
    "    writer = csv.writer(csv_out, delimiter=',')\n",
    "    hasHeader = False\n",
    "    a = 0\n",
    "    with open(file) as f:\n",
    "        for line in f:\n",
    "            feature_dict = {}\n",
    "            tokens = line.split(',')\n",
    "            seq = tokens[1].strip()\n",
    "            genus = tokens[2].strip()\n",
    "            genus = re.findall('[a-zA-Z]+', genus)[0]\n",
    "            if len(tokens) > 4:\n",
    "                class_ = tokens[3].strip()\n",
    "            if a == 0:\n",
    "                a = 1\n",
    "                continue\n",
    "            # skip sequences with len < 657 (see p. 7 and ref [30] in the paper)\n",
    "            if len(seq) < 657:    # change to len(seq) >= 657 to get removed data\n",
    "                continue\n",
    "\n",
    "            for i in range(len(seq)-k+1):\n",
    "                kmer = seq[i:i+k]\n",
    "                check = False\n",
    "                for nucleotide in kmer:\n",
    "                    if nucleotide not in ['A', 'C', 'G', 'T']:\n",
    "                        check = True\n",
    "                        break\n",
    "                if check: continue\n",
    "                feature_dict.setdefault(kmer, 0)\n",
    "                feature_dict[kmer] += 1\n",
    "            \n",
    "            for key in data:\n",
    "                if key not in feature_dict:\n",
    "                    feature_dict[key] = 0\n",
    "                    \n",
    "            if not hasHeader:\n",
    "                sorted_features = list(feature_dict.keys())\n",
    "                sorted_features.sort()\n",
    "                writer.writerow(['', 'nucleotide', 'genus name'] + sorted_features)\n",
    "                hasHeader = True\n",
    "                \n",
    "            feature_dict = dict(sorted(feature_dict.items()))\n",
    "            counter_list = list(feature_dict.values())\n",
    "            writer.writerow(['', seq, genus] + counter_list)\n",
    "    csv_out.close()\n",
    "\n",
    "files = ['Pucciniomycetes.csv', 'Polypodiopsida.csv', 'Aves.csv', 'Chiroptera.csv', 'Rodentia.csv']\n",
    "\n",
    "for k in range(1):\n",
    "    for file in files:\n",
    "        kmerize('../raw_data/'+file, k+1, False, combs[k], file.split('.')[0])"
   ]
  },
  {
   "cell_type": "code",
   "execution_count": null,
   "metadata": {},
   "outputs": [],
   "source": [
    "def get_stats(file):\n",
    "    genus_freq = {}\n",
    "    res = []\n",
    "    genus_counter = 0\n",
    "    seq_counter = 0\n",
    "    with open(file, encoding='mac_roman') as sequence_file:\n",
    "        for line in sequence_file:\n",
    "            data = line.split('\\t')\n",
    "            genus_name = data[19].strip()\n",
    "            nucleotide = data[71].strip()\n",
    "            class_name = data[11].strip()\n",
    "            if genus_name == '':\n",
    "                genus_counter += 1\n",
    "                continue\n",
    "            elif len(nucleotide) < 657:\n",
    "                seq_counter += 1\n",
    "                continue\n",
    "            res.append(genus_name)\n",
    "            genus_freq.setdefault(genus_name, 0)\n",
    "            genus_freq[genus_name] += 1\n",
    "    print('class name:', class_name)\n",
    "    print('total number of species:', len(genus_freq))\n",
    "    print('total number of removed samples (no genus_name)', genus_counter)\n",
    "    print('total number of removed_samples (sequence < 657):', seq_counter)\n",
    "    print('total number of samples with sequence >= 657:', sum(genus_freq.values()))\n",
    "    \n",
    "    Table().with_column('species name', np.array(res)).group(0).bar('species name')"
   ]
  }
 ],
 "metadata": {
  "kernelspec": {
   "display_name": "Python 3",
   "language": "python",
   "name": "python3"
  },
  "language_info": {
   "codemirror_mode": {
    "name": "ipython",
    "version": 3
   },
   "file_extension": ".py",
   "mimetype": "text/x-python",
   "name": "python",
   "nbconvert_exporter": "python",
   "pygments_lexer": "ipython3",
   "version": "3.6.9"
  }
 },
 "nbformat": 4,
 "nbformat_minor": 4
}
