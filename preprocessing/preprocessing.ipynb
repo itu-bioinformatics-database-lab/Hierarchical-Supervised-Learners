{
 "cells": [
  {
   "cell_type": "code",
   "execution_count": null,
   "metadata": {},
   "outputs": [],
   "source": [
    "import pandas as pd\n",
    "import copy\n",
    "import csv\n",
    "import re"
   ]
  },
  {
   "cell_type": "code",
   "execution_count": null,
   "metadata": {},
   "outputs": [],
   "source": [
    "def printAllKLength(set, k):   \n",
    "    n = len(set)\n",
    "    printAllKLengthRec(set, \"\", n, k)\n",
    "    \n",
    "\n",
    "def printAllKLengthRec(set, prefix, n, k): \n",
    "    if (k == 0) :\n",
    "        res.append(prefix)\n",
    "        return\n",
    "  \n",
    "    for i in range(n):\n",
    "        newPrefix = prefix + set[i]\n",
    "        printAllKLengthRec(set, newPrefix, n, k - 1)\n",
    "\n",
    "combs = []\n",
    "res = []\n",
    "for i in range(7):\n",
    "    printAllKLength(['A', 'C', 'G', 'T'], i+1)\n",
    "    combs.append(res)\n",
    "    res = copy.deepcopy([])"
   ]
  },
  {
   "cell_type": "code",
   "execution_count": null,
   "metadata": {},
   "outputs": [],
   "source": [
    "def kmerize(file, k, is_set, data, filename, removed=False):\n",
    "    if removed:\n",
    "        csv_out = open(filename + '.Removed.k' + str(k) + '.csv', 'w', newline='')\n",
    "    else:\n",
    "        csv_out = open(filename + '.Cleaned.k' + str(k) + '.csv', 'w', newline='')\n",
    "\n",
    "    writer = csv.writer(csv_out, delimiter=',')\n",
    "    hasHeader = False\n",
    "    a = 0\n",
    "    with open(file) as f:\n",
    "        for line in f:\n",
    "            feature_dict = {}\n",
    "            tokens = line.split(',')\n",
    "            seq = tokens[1].strip()\n",
    "            genus = tokens[2].strip()\n",
    "            genus = re.findall('[a-zA-Z]+', genus)[0]\n",
    "            if len(tokens) > 4:\n",
    "                class_ = tokens[3].strip()\n",
    "            if a == 0:\n",
    "                a = 1\n",
    "                continue\n",
    "            # skip sequences with len < 657 (see p. 7 and ref [30] in the paper)\n",
    "            if len(seq) < 657:    # change to len(seq) >= 657 to get removed data\n",
    "                continue\n",
    "\n",
    "            for i in range(len(seq)-k+1):\n",
    "                kmer = seq[i:i+k]\n",
    "                check = False\n",
    "                for nucleotide in kmer:\n",
    "                    if nucleotide not in ['A', 'C', 'G', 'T']:\n",
    "                        check = True\n",
    "                        break\n",
    "                if check: continue\n",
    "                feature_dict.setdefault(kmer, 0)\n",
    "                feature_dict[kmer] += 1\n",
    "            \n",
    "            for key in data:\n",
    "                if key not in feature_dict:\n",
    "                    feature_dict[key] = 0\n",
    "                    \n",
    "            if not hasHeader:\n",
    "                sorted_features = list(feature_dict.keys())\n",
    "                sorted_features.sort()\n",
    "                writer.writerow(['', 'nucleotide', 'genus name'] + sorted_features)\n",
    "                hasHeader = True\n",
    "                \n",
    "            feature_dict = dict(sorted(feature_dict.items()))\n",
    "            counter_list = list(feature_dict.values())\n",
    "            writer.writerow(['', seq, genus] + counter_list)\n",
    "    csv_out.close()\n",
    "\n",
    "files = ['Pucciniomycetes.csv', 'Polypodiopsida.csv', 'Aves.csv', 'Chiroptera.csv', 'Rodentia.csv']\n",
    "\n",
    "for k in range(7):\n",
    "    for file in files:\n",
    "        kmerize('../raw_data/'+file, k+1, False, combs[k], file.split('.')[0])"
   ]
  }
 ],
 "metadata": {
  "kernelspec": {
   "display_name": "Python 3",
   "language": "python",
   "name": "python3"
  },
  "language_info": {
   "codemirror_mode": {
    "name": "ipython",
    "version": 3
   },
   "file_extension": ".py",
   "mimetype": "text/x-python",
   "name": "python",
   "nbconvert_exporter": "python",
   "pygments_lexer": "ipython3",
   "version": "3.6.9"
  }
 },
 "nbformat": 4,
 "nbformat_minor": 4
}
