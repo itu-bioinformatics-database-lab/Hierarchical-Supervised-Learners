{
 "cells": [
  {
   "cell_type": "code",
   "execution_count": 1,
   "metadata": {},
   "outputs": [],
   "source": [
    "import pandas as pd\n",
    "import numpy as np\n",
    "import csv\n",
    "import random"
   ]
  },
  {
   "cell_type": "code",
   "execution_count": 2,
   "metadata": {},
   "outputs": [],
   "source": [
    "chirop_data = pd.read_csv('datasets/Chiroptera.Cleaned.k1.csv')\n",
    "chirop_data.insert(2, 'class', 'Chiroptera')\n",
    "rodent_data = pd.read_csv('datasets/Rodentia.Cleaned.k1.csv')\n",
    "rodent_data.insert(2, 'class', 'Rodentia')\n",
    "aves_data = pd.read_csv('datasets/Aves.Cleaned.k1.csv')\n",
    "aves_data.insert(2, 'class', 'Aves')\n",
    "pucci_data = pd.read_csv('datasets/Pucciniomycetes.Cleaned.k1.csv')\n",
    "pucci_data.insert(0, 'Unnamed: 0', np.arange(len(pucci_data)))\n",
    "pucci_data.insert(2, 'class', 'Pucciniomycetes')\n",
    "pucci_data = pucci_data.rename(columns={'genus name': 'genus_name', 'nucleotide': 'nucleotides'})\n",
    "polypod_data = pd.read_csv('datasets/Polypodiopsida.Cleaned.k1.csv')\n",
    "polypod_data.insert(0, 'Unnamed: 0', np.arange(len(polypod_data)))\n",
    "polypod_data.insert(2, 'class', 'Polypodiopsida')\n",
    "polypod_data = polypod_data.rename(columns={'genus name': 'genus_name', 'nucleotide': 'nucleotides'})\n",
    "merged_df = pd.concat([chirop_data, rodent_data, aves_data, pucci_data, polypod_data])\n",
    "merged_df.index = range(len(merged_df))\n",
    "merged_df = merged_df.drop(['Unnamed: 0', 'A', 'C', 'G', 'T'], axis=1)"
   ]
  },
  {
   "cell_type": "code",
   "execution_count": 3,
   "metadata": {},
   "outputs": [],
   "source": [
    "def mutate(ratios):\n",
    "    for ratio in ratios:\n",
    "        csv_out = open('mutated' + '.' + str(ratio) + '.csv', 'w', newline='')\n",
    "        writer = csv.writer(csv_out, delimiter=',')\n",
    "        writer.writerow(['mutated nucleotide', 'class', 'genus name'])\n",
    "        for row in range(len(merged_df.index)):\n",
    "            mutation_len = round(len(merged_df.iloc[row, 0]) * ratio, 0)\n",
    "            seq = merged_df.iloc[row, 0]\n",
    "            random_indices = random.sample(range(0, len(seq)), int(mutation_len))\n",
    "            for index in random_indices:\n",
    "                random_base = random.choice(['A', 'C', 'G', 'T'])\n",
    "                seq = seq[:index] + random_base + seq[index+1:]\n",
    "            writer.writerow([seq, merged_df.iloc[row, 1], merged_df.iloc[row, 2]])\n",
    "        csv_out.close()"
   ]
  },
  {
   "cell_type": "code",
   "execution_count": 4,
   "metadata": {},
   "outputs": [],
   "source": [
    "mutate([0.1, 0.2, 0.3, 0.4, 0.5, 0.6, 0.7, 0.8, 0.9, 1.0])"
   ]
  }
 ],
 "metadata": {
  "kernelspec": {
   "display_name": "Python 3",
   "language": "python",
   "name": "python3"
  },
  "language_info": {
   "codemirror_mode": {
    "name": "ipython",
    "version": 3
   },
   "file_extension": ".py",
   "mimetype": "text/x-python",
   "name": "python",
   "nbconvert_exporter": "python",
   "pygments_lexer": "ipython3",
   "version": "3.6.9"
  }
 },
 "nbformat": 4,
 "nbformat_minor": 2
}
