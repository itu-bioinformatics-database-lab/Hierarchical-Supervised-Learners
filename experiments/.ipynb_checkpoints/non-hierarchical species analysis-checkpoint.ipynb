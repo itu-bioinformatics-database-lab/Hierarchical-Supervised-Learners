{
 "cells": [
  {
   "cell_type": "code",
   "execution_count": 1,
   "metadata": {},
   "outputs": [],
   "source": [
    "import pandas as pd\n",
    "import json\n",
    "import numpy as np\n",
    "import warnings\n",
    "warnings.simplefilter('ignore')"
   ]
  },
  {
   "cell_type": "markdown",
   "metadata": {},
   "source": [
    "# Data Preparation "
   ]
  },
  {
   "cell_type": "markdown",
   "metadata": {},
   "source": [
    "## Reading datasets"
   ]
  },
  {
   "cell_type": "code",
   "execution_count": 2,
   "metadata": {},
   "outputs": [],
   "source": [
    "def read_csv(class_):\n",
    "    dataFrames = []\n",
    "    for i in range(1, 8):\n",
    "        df = pd.read_csv('../datasets/' + class_ + '.Cleaned.k' + str(i) + '.csv')\n",
    "        dataFrames.append(df)\n",
    "    return dataFrames"
   ]
  },
  {
   "cell_type": "markdown",
   "metadata": {},
   "source": [
    "### Chiroptera Class: k=1, 2, ...., 7"
   ]
  },
  {
   "cell_type": "code",
   "execution_count": 3,
   "metadata": {},
   "outputs": [],
   "source": [
    "chirop_dfs = read_csv('Chiroptera')"
   ]
  },
  {
   "cell_type": "markdown",
   "metadata": {},
   "source": [
    "### Rodentia Class: k=1, 2, ...., 7"
   ]
  },
  {
   "cell_type": "code",
   "execution_count": 4,
   "metadata": {},
   "outputs": [],
   "source": [
    "rodent_dfs = read_csv('Rodentia')"
   ]
  },
  {
   "cell_type": "markdown",
   "metadata": {},
   "source": [
    "### Aves Class: k=1, 2, ...., 7"
   ]
  },
  {
   "cell_type": "code",
   "execution_count": 5,
   "metadata": {},
   "outputs": [],
   "source": [
    "aves_dfs = read_csv('Aves')"
   ]
  },
  {
   "cell_type": "markdown",
   "metadata": {},
   "source": [
    "### Polypodiopsida Class: k=1, 2, ...., 7"
   ]
  },
  {
   "cell_type": "code",
   "execution_count": 6,
   "metadata": {},
   "outputs": [],
   "source": [
    "polypod_dfs = read_csv('Polypodiopsida')"
   ]
  },
  {
   "cell_type": "markdown",
   "metadata": {},
   "source": [
    "### Pucciniomycetes Class: k=1, 2, ...., 7 "
   ]
  },
  {
   "cell_type": "code",
   "execution_count": 7,
   "metadata": {},
   "outputs": [],
   "source": [
    "pucci_dfs = read_csv('Pucciniomycetes')"
   ]
  },
  {
   "cell_type": "code",
   "execution_count": 8,
   "metadata": {},
   "outputs": [],
   "source": [
    "for i in range(len(pucci_dfs)):\n",
    "    pucci_dfs[i].insert(0, 'Unnamed: 0', np.arange(len(pucci_dfs[i])))\n",
    "    polypod_dfs[i].insert(0, 'Unnamed: 0', np.arange(len(polypod_dfs[i])))"
   ]
  },
  {
   "cell_type": "markdown",
   "metadata": {},
   "source": [
    "# Learning Models"
   ]
  },
  {
   "cell_type": "code",
   "execution_count": 9,
   "metadata": {},
   "outputs": [],
   "source": [
    "from sklearn.preprocessing import StandardScaler\n",
    "from sklearn.svm import SVC\n",
    "from sklearn.ensemble import RandomForestClassifier\n",
    "from sklearn.model_selection import StratifiedKFold, train_test_split\n",
    "from sklearn.metrics import f1_score"
   ]
  },
  {
   "cell_type": "code",
   "execution_count": 10,
   "metadata": {},
   "outputs": [],
   "source": [
    "def get_acc_scores(X, y):\n",
    "    skf = StratifiedKFold(n_splits=10, random_state=0, shuffle=True)\n",
    "    acc_scores = {'svmrad test': [], 'svmrad train': [], 'svmlin test': [], 'svmlin train': [], 'rf test': [], 'rf train': []}\n",
    "    for train_index, test_index in skf.split(X, y):\n",
    "        X_train, X_test = X.iloc[train_index, :], X.iloc[test_index, :]\n",
    "        y_train, y_test = y.iloc[train_index, :], y.iloc[test_index, :]\n",
    "        svm_rad = SVC(gamma=1/len(X_train.index), kernel='rbf')\n",
    "        svm_lin = SVC(gamma=1/len(X_train.index), kernel='linear')\n",
    "        rf = RandomForestClassifier(n_estimators=10, n_jobs=-1)\n",
    "        svm_rad.fit(X_train, y_train)\n",
    "        svm_lin.fit(X_train, y_train)\n",
    "        rf.fit(X_train, y_train)\n",
    "        svm_rad_test = f1_score(y_test, svm_rad.predict(X_test), average='micro')\n",
    "        svm_rad_train = f1_score(y_train, svm_rad.predict(X_train), average='micro')\n",
    "        svm_lin_test = f1_score(y_test, svm_lin.predict(X_test), average='micro')\n",
    "        svm_lin_train = f1_score(y_train, svm_lin.predict(X_train), average='micro')\n",
    "        rf_test = f1_score(y_test, rf.predict(X_test), average='micro')\n",
    "        rf_train = f1_score(y_train, rf.predict(X_train), average='micro')\n",
    "        acc_scores['svmrad test'].append(svm_rad_test)\n",
    "        acc_scores['svmrad train'].append(svm_rad_train)\n",
    "        acc_scores['svmlin test'].append(svm_lin_test)\n",
    "        acc_scores['svmlin train'].append(svm_lin_train)\n",
    "        acc_scores['rf test'].append(rf_test)\n",
    "        acc_scores['rf train'].append(rf_train)\n",
    "    return acc_scores "
   ]
  },
  {
   "cell_type": "code",
   "execution_count": 11,
   "metadata": {},
   "outputs": [],
   "source": [
    "def main(class_, name):\n",
    "    clfs_acc = {}\n",
    "    for i in range(1, len(class_)+1):\n",
    "        X = class_[i-1].iloc[:, 3:]\n",
    "        features = X.columns\n",
    "        sc = StandardScaler()\n",
    "        X = sc.fit_transform(X)\n",
    "        y = pd.DataFrame(class_[i-1].iloc[:, 2])\n",
    "        X = pd.DataFrame(X, columns=features)\n",
    "        clfs_acc[name+'.k'+str(i)] = get_acc_scores(X, y)\n",
    "    return clfs_acc"
   ]
  },
  {
   "cell_type": "code",
   "execution_count": 12,
   "metadata": {},
   "outputs": [],
   "source": [
    "def dump_results():\n",
    "    results = {}\n",
    "    results['Pucciniomycetes'] = main(pucci_dfs, 'Pucciniomycetes')\n",
    "    results['Polypodiopsida'] = main(polypod_dfs, 'Polypodiopsida')\n",
    "    results['Aves'] = main(aves_dfs, 'Aves')\n",
    "    results['Chiroptera'] = main(chirop_dfs, 'Chiroptera')\n",
    "    results['Rodentia'] = main(rodent_dfs, 'Rodentia')\n",
    "    with open('non-hierarchical f1_scores.json', 'w') as fr:\n",
    "        json.dump(results, fr)"
   ]
  },
  {
   "cell_type": "code",
   "execution_count": 13,
   "metadata": {},
   "outputs": [],
   "source": [
    "dump_results()"
   ]
  }
 ],
 "metadata": {
  "kernelspec": {
   "display_name": "Python 3",
   "language": "python",
   "name": "python3"
  },
  "language_info": {
   "codemirror_mode": {
    "name": "ipython",
    "version": 3
   },
   "file_extension": ".py",
   "mimetype": "text/x-python",
   "name": "python",
   "nbconvert_exporter": "python",
   "pygments_lexer": "ipython3",
   "version": "3.6.9"
  }
 },
 "nbformat": 4,
 "nbformat_minor": 2
}
