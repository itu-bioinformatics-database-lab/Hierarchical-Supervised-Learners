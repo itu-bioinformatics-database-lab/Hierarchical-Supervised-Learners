{
 "cells": [
  {
   "cell_type": "markdown",
   "metadata": {},
   "source": [
    "## Importing Modules"
   ]
  },
  {
   "cell_type": "code",
   "execution_count": 1,
   "metadata": {
    "colab": {},
    "colab_type": "code",
    "id": "mTjpKvEZwKhn"
   },
   "outputs": [],
   "source": [
    "import numpy as np\n",
    "import pandas as pd\n",
    "from sklearn.preprocessing import StandardScaler\n",
    "import pickle\n",
    "from joblib import Parallel, delayed\n",
    "from model_trainer import train_svms\n",
    "\n",
    "# Scores\n",
    "from sklearn.model_selection import StratifiedKFold\n",
    "\n",
    "# Classifiers\n",
    "from sklearn.svm import SVC\n",
    "from sklearn.ensemble import RandomForestClassifier\n",
    "\n",
    "# Ignoring Errors\n",
    "import warnings\n",
    "warnings.simplefilter('ignore')"
   ]
  },
  {
   "cell_type": "code",
   "execution_count": 2,
   "metadata": {},
   "outputs": [],
   "source": [
    "def predict_species(idx, x, y_pred, y, model):\n",
    "    if y_pred != y:\n",
    "        return 'xyz'\n",
    "    \n",
    "    else:\n",
    "        if x == 'train':\n",
    "            y_pred_species = model[y].predict(X_train[idx, :].reshape(1,-1))\n",
    "            return str(y_pred_species[0])\n",
    "        elif x == 'test':\n",
    "            y_pred_species = model[y].predict(X_test[idx, :].reshape(1,-1))\n",
    "            return str(y_pred_species[0])\n",
    "    \n",
    "predict_species = np.vectorize(predict_species)"
   ]
  },
  {
   "cell_type": "code",
   "execution_count": 9,
   "metadata": {},
   "outputs": [],
   "source": [
    "# def return_preditions(idx, x, y_pred, y, model, X_train, X_test):\n",
    "#     return predict_species(idx, x, y_pred, y, model, X_train, X_test)"
   ]
  },
  {
   "cell_type": "code",
   "execution_count": 3,
   "metadata": {},
   "outputs": [],
   "source": [
    "def train_rfs(name, taxonomies):\n",
    "    hierarchical_rf = RandomForestClassifier(n_estimators=10, n_jobs=-1)\n",
    "    hierarchical_rf.fit(taxonomies[name][0], taxonomies[name][1])\n",
    "    return hierarchical_rf"
   ]
  },
  {
   "cell_type": "code",
   "execution_count": 4,
   "metadata": {
    "colab": {
     "base_uri": "https://localhost:8080/",
     "height": 357
    },
    "colab_type": "code",
    "executionInfo": {
     "elapsed": 778744,
     "status": "error",
     "timestamp": 1577679159560,
     "user": {
      "displayName": "Huzeyfe Ayaz",
      "photoUrl": "https://lh3.googleusercontent.com/a-/AAuE7mABLAzm5JK_CnqTUmdKH5HwVCZ4l0oXPSxpKTSz=s64",
      "userId": "09330556348955103282"
     },
     "user_tz": -180
    },
    "id": "iQVSRtTN2Hee",
    "outputId": "77ac189c-828f-4d43-9ea5-d33879c2108a",
    "scrolled": true
   },
   "outputs": [],
   "source": [
    "k_number = 10\n",
    "data = pd.read_csv(\"7kmerized.mutated{}.csv\".format(k_number))\n",
    "data = data.drop([\"mutated nucleotide\"], 1).dropna(axis=0)"
   ]
  },
  {
   "cell_type": "markdown",
   "metadata": {},
   "source": [
    "## Begin to model training and estimations"
   ]
  },
  {
   "cell_type": "code",
   "execution_count": 5,
   "metadata": {},
   "outputs": [
    {
     "name": "stdout",
     "output_type": "stream",
     "text": [
      "Fold 1 is done!\n",
      "Fold 2 is done!\n",
      "Fold 3 is done!\n",
      "Fold 4 is done!\n",
      "Fold 5 is done!\n",
      "Fold 6 is done!\n",
      "Fold 7 is done!\n",
      "Fold 8 is done!\n",
      "Fold 9 is done!\n",
      "Fold 10 is done!\n"
     ]
    }
   ],
   "source": [
    "hierarchical_svm_train, hierarchical_svm_test = [], []\n",
    "hierarchical_rf_train, hierarchical_rf_test = [], []\n",
    "single_rf_train, single_rf_test = [], []\n",
    "\n",
    "# Data Preprocessing\n",
    "std = StandardScaler()\n",
    "X = np.array(data.iloc[:,2:]) # X is the barcode sequences\n",
    "X = std.fit_transform(X)\n",
    "species = np.ravel(data.iloc[:,1])\n",
    "y = np.ravel(data.iloc[:,0]) # y is the taxonomic classes\n",
    "\n",
    "kf = StratifiedKFold(10, random_state=42, shuffle=True)\n",
    "\n",
    "counter = 1\n",
    "for train_index, test_index in kf.split(X, species):\n",
    "    X_train, X_test = X[train_index], X[test_index]\n",
    "    y_train, y_test = y[train_index], y[test_index]\n",
    "    species_train, species_test = species[train_index], species[test_index]\n",
    "    \n",
    "    # Training Taxonomy models and Species models for prediction\n",
    "    taxonomy_names = ['Aves', 'Chiroptera', 'Rodentia', 'Polypodiopsida', 'Pucciniomycetes']\n",
    "    taxonomies = {}\n",
    "    \n",
    "    for txnmy in taxonomy_names:\n",
    "        taxonomies[txnmy] = [X_train[y_train == txnmy,:], species_train[y_train == txnmy]]\n",
    "        \n",
    "    taxonomy_names.append('All')\n",
    "    taxonomies['All'] = [X_train, y_train]\n",
    "    \n",
    "    with Parallel(n_jobs=6) as parallel:\n",
    "        trained_svm_models = parallel(delayed(train_svms)(name, taxonomies) for name in taxonomy_names)\n",
    "    trained_rf_models = [train_rfs(name, taxonomies) for name in taxonomy_names]\n",
    "        \n",
    "    single_rf = RandomForestClassifier(n_estimators=10, n_jobs=-1)\n",
    "    single_rf.fit(X_train, species_train)\n",
    "\n",
    "    # Organizing Classifiers\n",
    "    taxonomy_models = {'svms':{}, 'rfs':{}}\n",
    "    \n",
    "    for i in range(len(taxonomy_names)):\n",
    "        taxonomy_models['svms'][taxonomy_names[i]] = trained_svm_models[i]\n",
    "        taxonomy_models['rfs'][taxonomy_names[i]] = trained_rf_models[i]\n",
    "        \n",
    "    # Taxonomy Predictions\n",
    "    svm_ypred_train = taxonomy_models[\"svms\"][\"All\"].predict(X_train)\n",
    "    svm_ypred_test = taxonomy_models[\"svms\"][\"All\"].predict(X_test)\n",
    "    \n",
    "    rf_ypred_train = taxonomy_models[\"rfs\"][\"All\"].predict(X_train)\n",
    "    rf_ypred_test = taxonomy_models[\"rfs\"][\"All\"].predict(X_test)\n",
    "\n",
    "    singlerf_ypred_train = single_rf.predict(X_train)\n",
    "    singlerf_ypred_test = single_rf.predict(X_test)\n",
    "\n",
    "    # Predict Species\n",
    "    X_train_range = np.ravel([i for i in range(X_train.shape[0])])\n",
    "    X_test_range = np.ravel([i for i in range(X_test.shape[0])])\n",
    "    \n",
    "    svm_predictions_train = np.ravel(predict_species(X_train_range,'train', svm_ypred_train, y_train, taxonomy_models['svms']))\n",
    "    svm_predictions_test = np.ravel(predict_species(X_test_range,'test', svm_ypred_test, y_test, taxonomy_models['svms']))\n",
    "    \n",
    "    rf_predictions_train = np.ravel(predict_species(X_train_range,'train', rf_ypred_train, y_train, taxonomy_models['rfs']))\n",
    "    rf_predictions_test = np.ravel(predict_species(X_test_range,'test', rf_ypred_test, y_test, taxonomy_models['rfs']))\n",
    "    \n",
    "    \n",
    "    # Appending each fold to corresponging data structure\n",
    "    hierarchical_svm_train.append((species_train, svm_predictions_train)) # true, predicted\n",
    "    hierarchical_svm_test.append((species_test, svm_predictions_test))\n",
    "\n",
    "    hierarchical_rf_train.append((species_train, rf_predictions_train)) # true, predicted\n",
    "    hierarchical_rf_test.append((species_test, rf_predictions_test))\n",
    "\n",
    "    single_rf_train.append((species_train, singlerf_ypred_train)) # true, predicted\n",
    "    single_rf_test.append((species_test, singlerf_ypred_test))\n",
    "    print('Fold {} is done!'.format(counter))\n",
    "    counter += 1\n",
    "\n",
    "\n",
    "mutation_predictions = {'linearsvm':{'train':hierarchical_svm_train, 'test':hierarchical_svm_test},\n",
    "                        'singlerf':{'train':single_rf_train, 'test':single_rf_test},\n",
    "                        'hierarchicalrf':{'train':hierarchical_rf_train, 'test':hierarchical_rf_test}}"
   ]
  },
  {
   "cell_type": "markdown",
   "metadata": {},
   "source": [
    "### Storing The Scores"
   ]
  },
  {
   "cell_type": "code",
   "execution_count": 6,
   "metadata": {
    "colab": {},
    "colab_type": "code",
    "id": "Yxbn-Pg4wKiL"
   },
   "outputs": [],
   "source": [
    "with open('mutation_predictions{}.db'.format(k_number),'wb') as file:\n",
    "    pickle.dump(mutation_predictions, file)"
   ]
  }
 ],
 "metadata": {
  "anaconda-cloud": {},
  "colab": {
   "collapsed_sections": [],
   "name": "taxonomies_hierarchical.ipynb",
   "provenance": []
  },
  "kernelspec": {
   "display_name": "Python 3",
   "language": "python",
   "name": "python3"
  },
  "language_info": {
   "codemirror_mode": {
    "name": "ipython",
    "version": 3
   },
   "file_extension": ".py",
   "mimetype": "text/x-python",
   "name": "python",
   "nbconvert_exporter": "python",
   "pygments_lexer": "ipython3",
   "version": "3.7.3"
  }
 },
 "nbformat": 4,
 "nbformat_minor": 1
}
