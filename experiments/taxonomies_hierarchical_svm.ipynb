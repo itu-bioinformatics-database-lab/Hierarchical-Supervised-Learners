{
 "cells": [
  {
   "cell_type": "markdown",
   "metadata": {},
   "source": [
    "### Importing Modules"
   ]
  },
  {
   "cell_type": "code",
   "execution_count": 1,
   "metadata": {
    "colab": {},
    "colab_type": "code",
    "id": "mTjpKvEZwKhn"
   },
   "outputs": [],
   "source": [
    "import numpy as np\n",
    "import pandas as pd\n",
    "from sklearn.preprocessing import StandardScaler\n",
    "import pickle\n",
    "from joblib import Parallel, delayed\n",
    "from model_trainer import train_svms\n",
    "\n",
    "# Scores\n",
    "from sklearn.model_selection import StratifiedKFold\n",
    "\n",
    "# Classifiers\n",
    "from sklearn.svm import SVC\n",
    "\n",
    "# Ignoring Errors\n",
    "import warnings\n",
    "warnings.simplefilter('ignore')"
   ]
  },
  {
   "cell_type": "code",
   "execution_count": 2,
   "metadata": {},
   "outputs": [],
   "source": [
    "def predict_species(idx, x, y_pred, y, model):\n",
    "    if y_pred != y:\n",
    "        return 'xyz'\n",
    "    \n",
    "    else:\n",
    "        if x == 'train':\n",
    "            y_pred_species = model[y].predict(X_train[idx, :].reshape(1,-1))\n",
    "            return str(y_pred_species[0])\n",
    "        elif x == 'test':\n",
    "            y_pred_species = model[y].predict(X_test[idx, :].reshape(1,-1))\n",
    "            return str(y_pred_species[0])\n",
    "    \n",
    "predict_species = np.vectorize(predict_species)"
   ]
  },
  {
   "cell_type": "markdown",
   "metadata": {},
   "source": [
    "### To obtain Combined Data-Set For Each Class"
   ]
  },
  {
   "cell_type": "code",
   "execution_count": 3,
   "metadata": {},
   "outputs": [],
   "source": [
    "kingdom_names = ['Aves', 'Chiroptera', 'Rodentia', 'Polypodiopsida', 'Pucciniomycetes']\n",
    "before_combine_df = []\n",
    "for data in kingdom_names:\n",
    "    if data == 'Aves' or data == 'Chiroptera' or data == 'Rodentia':\n",
    "        csv_file = pd.read_csv(\"{}.Cleaned.k{}.csv\".format(data, 6))\n",
    "        csv_file = csv_file.drop(['Unnamed: 0', 'nucleotides'],1)\n",
    "        taxonomies = pd.DataFrame(np.ravel([data for i in range(csv_file.shape[0])]), columns = [\"class\"])\n",
    "        taxonomy_class_added = pd.concat([taxonomies, csv_file], axis=1)\n",
    "        before_combine_df.append(taxonomy_class_added)\n",
    "    else:\n",
    "        csv_file = pd.read_csv(\"{1}kmerized.{0}.csv\".format(data, 6))\n",
    "        csv_file = pd.concat([csv_file[['class']], csv_file[['genus name']].rename(columns={'genus name': 'genus_name'}), csv_file.iloc[:,:-2]], axis=1)\n",
    "        before_combine_df.append(csv_file)\n",
    "\n",
    "data = pd.concat(before_combine_df, axis=0)"
   ]
  },
  {
   "cell_type": "markdown",
   "metadata": {},
   "source": [
    "### Finding hierarchical predictions"
   ]
  },
  {
   "cell_type": "code",
   "execution_count": 4,
   "metadata": {},
   "outputs": [
    {
     "name": "stdout",
     "output_type": "stream",
     "text": [
      "fold 1 is done!\n",
      "fold 2 is done!\n",
      "fold 3 is done!\n",
      "fold 4 is done!\n",
      "fold 5 is done!\n",
      "fold 6 is done!\n",
      "fold 7 is done!\n",
      "fold 8 is done!\n",
      "fold 9 is done!\n",
      "fold 10 is done!\n"
     ]
    }
   ],
   "source": [
    "all_train, all_test = [], []\n",
    "std = StandardScaler()\n",
    "X = np.array(data.iloc[:,2:]) # X is the barcode sequences\n",
    "X = std.fit_transform(X)\n",
    "species = np.ravel(data.iloc[:,1])\n",
    "y = np.ravel(data.iloc[:,0]) # y is the taxonomic classes\n",
    "\n",
    "kf = StratifiedKFold(10, random_state=42, shuffle=True)\n",
    "counter = 1\n",
    "for train_index, test_index in kf.split(X, species):\n",
    "    X_train, X_test = X[train_index], X[test_index]\n",
    "    y_train, y_test = y[train_index], y[test_index]\n",
    "    species_train, species_test = species[train_index], species[test_index]\n",
    "\n",
    "    # Keeping Taxonomy Classes to Predict species\n",
    "    kingdom_names = ['Aves', 'Chiroptera', 'Rodentia', 'Polypodiopsida', 'Pucciniomycetes']\n",
    "    kingdoms = {}\n",
    "    \n",
    "    for kgdm in kingdom_names:\n",
    "        kingdoms[kgdm] = [X_train[y_train == kgdm,:], species_train[y_train == kgdm]]\n",
    "        \n",
    "    kingdom_names.append('All')\n",
    "    kingdoms['All'] = [X_train, y_train]\n",
    "    \n",
    "    with Parallel(n_jobs=6) as parallel:\n",
    "        trained_models = parallel(delayed(train_svms)(name, taxonomies) for name in taxonomy_names\n",
    "\n",
    "    kingdom_models = {}\n",
    "\n",
    "    # Classifiers\n",
    "    svm_taxonomy = trained_models[-1]\n",
    "    for i in range(len(kingdom_names)):\n",
    "        kingdom_models[kingdom_names[i]] = trained_models[i]\n",
    "\n",
    "    y_pred_train = svm_taxonomy.predict(X_train)\n",
    "    y_pred_test = svm_taxonomy.predict(X_test)\n",
    "\n",
    "    # Predict the Species\n",
    "    predictions_train = np.ravel(predict_species([i for i in range(X_train.shape[0])], 'train', y_pred_train, y_train, kingdom_models))\n",
    "    predictions_test = np.ravel(predict_species([i for i in range(X_test.shape[0])], 'test', y_pred_test, y_test, kingdom_models))\n",
    "\n",
    "    all_train.append((species_train, predictions_train))\n",
    "    all_test.append((species_test, predictions_test))\n",
    "    print('fold {} is done!'.format(counter))\n",
    "    counter += 1 "
   ]
  },
  {
   "cell_type": "markdown",
   "metadata": {},
   "source": [
    "### Storing The Scores"
   ]
  },
  {
   "cell_type": "code",
   "execution_count": 5,
   "metadata": {
    "colab": {},
    "colab_type": "code",
    "id": "Yxbn-Pg4wKiL"
   },
   "outputs": [],
   "source": [
    "with open('hierarchical_svm_predicitions_k{}.db'.format(6),'wb') as score:\n",
    "    pickle.dump([all_train, all_test], score)"
   ]
  }
 ],
 "metadata": {
  "anaconda-cloud": {},
  "colab": {
   "collapsed_sections": [],
   "name": "taxonomies_hierarchical.ipynb",
   "provenance": []
  },
  "kernelspec": {
   "display_name": "Python 3",
   "language": "python",
   "name": "python3"
  },
  "language_info": {
   "codemirror_mode": {
    "name": "ipython",
    "version": 3
   },
   "file_extension": ".py",
   "mimetype": "text/x-python",
   "name": "python",
   "nbconvert_exporter": "python",
   "pygments_lexer": "ipython3",
   "version": "3.7.3"
  }
 },
 "nbformat": 4,
 "nbformat_minor": 1
}
